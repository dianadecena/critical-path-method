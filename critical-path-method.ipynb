{
 "cells": [
  {
   "cell_type": "markdown",
   "metadata": {
    "id": "N-EbNIZXOH5z"
   },
   "source": [
    "#Implementación CPM "
   ]
  },
  {
   "cell_type": "code",
   "execution_count": 1,
   "metadata": {
    "id": "8sjpBKoL78GJ"
   },
   "outputs": [],
   "source": [
    "import pandas as pd"
   ]
  },
  {
   "cell_type": "markdown",
   "metadata": {},
   "source": [
    "Elaborado por: Diana Decena, Alexander Kalen, Andrés Espinoza, Nicolás Silveira y Reynaldo Ramirez."
   ]
  },
  {
   "cell_type": "markdown",
   "metadata": {
    "id": "oM9CX0BHDx__"
   },
   "source": [
    "##1. Ensamblar tabla de actividades en forma de matriz (identificador, descripción, duración, requisito)"
   ]
  },
  {
   "cell_type": "code",
   "execution_count": 2,
   "metadata": {
    "colab": {
     "base_uri": "https://localhost:8080/"
    },
    "id": "b_yztJZGA4T6",
    "outputId": "999f23a7-c526-4306-c4d9-c6d2928c3cbf"
   },
   "outputs": [
    {
     "name": "stdout",
     "output_type": "stream",
     "text": [
      "[['A', 'B', 'C', 'D', 'E', 'F', 'G'], ['Quitar cerámicas', 'Instalar cableado', 'Instalar calentador', 'Instalar bomba', 'Instalar tuberías', 'Instalar jacuzzi', 'Pruebas y ajustes'], [2, 3, 1, 3, 2, 2, 2], ['none', 'A', 'B,E', 'E', 'A', 'C,D', 'F']]\n"
     ]
    }
   ],
   "source": [
    "#Leer archivo\n",
    "data_frame = pd.read_excel(\"tabla_activ.xlsx\")\n",
    "\n",
    "num_actividades = len(data_frame['Identificador'].tolist()) #Variable para conocer el número de actividades (# de filas de las matrices)\n",
    "\n",
    "#Ensamblar la matriz usando el dataframe del archivo\n",
    "tabla_actividades = []\n",
    "\n",
    "tabla_actividades.append(data_frame['Identificador'].tolist())\n",
    "tabla_actividades.append(data_frame['Descripción'].tolist())\n",
    "tabla_actividades.append(data_frame['Duración'].tolist())\n",
    "tabla_actividades.append(data_frame['Requisito'].tolist())\n",
    "print(tabla_actividades)"
   ]
  },
  {
   "cell_type": "markdown",
   "metadata": {
    "id": "suQyqqsxLIgV"
   },
   "source": [
    "![Tabla activ.png](data:image/png;base64,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)"
   ]
  },
  {
   "cell_type": "markdown",
   "metadata": {
    "id": "0N79OEZJH_rf"
   },
   "source": [
    "##2. Convertir en matriz de adyacencia para el forward "
   ]
  },
  {
   "cell_type": "code",
   "execution_count": 3,
   "metadata": {
    "colab": {
     "base_uri": "https://localhost:8080/"
    },
    "id": "m9Ab7qGfpZ3f",
    "outputId": "44ef78e0-80fb-4689-9507-4c5e170fddc6"
   },
   "outputs": [
    {
     "name": "stdout",
     "output_type": "stream",
     "text": [
      "[[0, 2, 0, 0, 2, 0, 0], [0, 0, 3, 0, 0, 0, 0], [0, 0, 0, 0, 0, 1, 0], [0, 0, 0, 0, 0, 3, 0], [0, 0, 2, 2, 0, 0, 0], [0, 0, 0, 0, 0, 0, 2], [0, 0, 0, 0, 0, 0, 2]]\n"
     ]
    }
   ],
   "source": [
    "#crear matriz de adyacencia a partir de los datos de entrada \n",
    "matriz_adyacencia_f = []\n",
    "#inicializar matriz de adyacencia con ceros\n",
    "for i in range(num_actividades):\n",
    "\t\tmatriz_adyacencia_f.append([0]*num_actividades)\n",
    "\n",
    "#se crea un diccionario para relacionar cada letras correspondiente a la actividad con un número \n",
    "dict_actividades = {}\n",
    "cont = 0\n",
    "for indentificador in tabla_actividades[0]:\n",
    "  dict_actividades[indentificador] = cont\n",
    "  cont += 1\n",
    "\n",
    "#se crea la matriz de adyacencia \n",
    "for i in range(num_actividades):\n",
    "  if tabla_actividades[3][i] != 'none':\n",
    "    #verificar si es la actividad final \n",
    "    if i == num_actividades-1:\n",
    "      matriz_adyacencia_f[i][i] = tabla_actividades[2][i]\n",
    "    requisitos = tabla_actividades[3][i].split(\",\")\n",
    "    #se guarda el valor correspondiente a la duración de la actividad \n",
    "    for j in requisitos:\n",
    "      matriz_adyacencia_f[dict_actividades[j]][i] = tabla_actividades[2][dict_actividades[j]]\n",
    "\n",
    "print(matriz_adyacencia_f)"
   ]
  },
  {
   "cell_type": "markdown",
   "metadata": {
    "id": "TKqygN1NIDJg"
   },
   "source": [
    "##3. Matriz de fechas (ES, EF, LS, LF)"
   ]
  },
  {
   "cell_type": "code",
   "execution_count": 4,
   "metadata": {
    "colab": {
     "base_uri": "https://localhost:8080/"
    },
    "id": "1E2UMFX5nWeP",
    "outputId": "d34e37a2-a5fc-48fe-b735-a68ce3f08c41"
   },
   "outputs": [
    {
     "name": "stdout",
     "output_type": "stream",
     "text": [
      "[[0, 0, 999, 999], [0, 0, 999, 999], [0, 0, 999, 999], [0, 0, 999, 999], [0, 0, 999, 999], [0, 0, 999, 999], [0, 0, 999, 999]]\n"
     ]
    }
   ],
   "source": [
    "#crea matriz de fechas que sea más general \n",
    "matriz_fechas = []\n",
    "for i in range(num_actividades):\n",
    "\t\tmatriz_fechas.append([0,0,999,999])\n",
    "\n",
    "print(matriz_fechas)  "
   ]
  },
  {
   "cell_type": "markdown",
   "metadata": {
    "id": "JUgh39VkIJpZ"
   },
   "source": [
    "##4. Forward-pass"
   ]
  },
  {
   "cell_type": "code",
   "execution_count": 5,
   "metadata": {
    "colab": {
     "base_uri": "https://localhost:8080/"
    },
    "id": "towCzEM_napC",
    "outputId": "d02ce82d-1f99-4ff6-c5a9-0c33a938b3c5"
   },
   "outputs": [
    {
     "name": "stdout",
     "output_type": "stream",
     "text": [
      "visito: 1\n",
      "cola: [2, 5]\n",
      "visito: 2\n",
      "cola: [5, 3]\n",
      "visito: 5\n",
      "cola: [3, 4]\n",
      "visito: 3\n",
      "cola: [4, 6]\n",
      "visito: 4\n",
      "cola: [6]\n",
      "visito: 6\n",
      "cola: [7]\n",
      "visito: 7\n",
      "cola: []\n",
      "[[0, 2, 999, 999], [2, 5, 999, 999], [5, 6, 999, 999], [4, 7, 999, 999], [2, 4, 999, 999], [7, 9, 999, 999], [9, 11, 999, 999]]\n"
     ]
    }
   ],
   "source": [
    "#se aplica breadth first para recorrer el grafo\n",
    "\n",
    "#se crea una cola para guardar los nodos \n",
    "cola = []\n",
    "#array de visitados para saber cuales nodos se han visitado \n",
    "visitados = [False]*len(matriz_adyacencia_f)\n",
    "seguir = True\n",
    "#se inicia en el nodo 1\n",
    "v = 1\n",
    "\n",
    "while seguir:\n",
    "  #si la cola tiene elementos se desencola \n",
    "  if cola:\n",
    "    v = cola.pop(0)\n",
    "  print('visito: '+str(v))\n",
    "\n",
    "  tiempo_actual = 0\n",
    "\n",
    "  #primero se recorre la fila en la matriz de la adyacencia del nodo actual \n",
    "  for h in range(len(matriz_adyacencia_f[v-1])):\n",
    "    if matriz_adyacencia_f[v-1][h] != 0:\n",
    "      #si el nodo es el primero la ES será igual a 0 y la EF igual a la duración de la actividad \n",
    "      if v == 1:\n",
    "        matriz_fechas[v-1][0] = 0 \n",
    "        matriz_fechas[v-1][1] = matriz_adyacencia_f[v-1][h]\n",
    "      #para el resto de los nodos se guarda en la variable tiempo actual la duración de esa actividad \n",
    "      else:\n",
    "        tiempo_actual = matriz_adyacencia_f[v-1][h]\n",
    "      #se marca el nodo como visitado \n",
    "      visitados[v-1] = True\n",
    "      #se agregan a la cola los hijos del nodo actual \n",
    "      if visitados[h] == False and h+1 not in cola:\n",
    "        cola.append(h+1)\n",
    "  #luego se vuelve a recorrer la fila en la matriz de adyacencia del nodo actual, pero esta vez para guardar los ES y EF de las otras actividades \n",
    "  for i in range(len(matriz_adyacencia_f[v-1])):\n",
    "    #si el valor en la matriz de adyacencia en esa posición es distinto de cero (significa que la actividad es predecesora de la actual)\n",
    "    if matriz_adyacencia_f[i][v-1] != 0 and i != v-1:\n",
    "      #si el valor del nodo actual es distinto de 1\n",
    "      if v!= 1:\n",
    "        #si el valor EF en la matriz fechas de la posición actual es mayor al guardado del ES en la matriz fechas para el nodo actual \n",
    "        if matriz_fechas[i][1] > matriz_fechas[v-1][0]:\n",
    "          #se guarda el valor como ES en la matriz fechas para el nodo actual \n",
    "          matriz_fechas[v-1][0] = matriz_fechas[i][1]\n",
    "        #si el valor ES en la matriz fechas para la posicón actual + el tiempo actual guardado anteriormente es mayor al EF guardado del nodo actual   \n",
    "        if matriz_fechas[i][1] + tiempo_actual > matriz_fechas[v-1][1]:\n",
    "          #se guarda el valor como EF en la matriz fechas para el nodo actual \n",
    "          matriz_fechas[v-1][1] = matriz_fechas[i][1] + tiempo_actual\n",
    "  print('cola: '+str(cola))\n",
    "  #si todos los nodos han sido visitados se termina el ciclo \n",
    "  if False not in visitados:\n",
    "    seguir = False\n",
    "\n",
    "print(matriz_fechas)"
   ]
  },
  {
   "cell_type": "markdown",
   "metadata": {
    "id": "zSYqd_P9dLPK"
   },
   "source": [
    "![forwardpass.png](data:image/png;base64,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)"
   ]
  },
  {
   "cell_type": "markdown",
   "metadata": {
    "id": "WsBMpJWJvuwa"
   },
   "source": [
    "##5. Convertir en matriz de adyacencia para el backward"
   ]
  },
  {
   "cell_type": "code",
   "execution_count": 6,
   "metadata": {
    "colab": {
     "base_uri": "https://localhost:8080/"
    },
    "id": "qt-lYkO0uVSQ",
    "outputId": "d841b59e-cf9b-427e-f9b7-4cd23ffb1390"
   },
   "outputs": [
    {
     "name": "stdout",
     "output_type": "stream",
     "text": [
      "[[2, 0, 0, 0, 0, 0, 0], [2, 0, 0, 0, 0, 0, 0], [0, 3, 0, 0, 2, 0, 0], [0, 0, 0, 0, 2, 0, 0], [2, 0, 0, 0, 0, 0, 0], [0, 0, 1, 3, 0, 0, 0], [0, 0, 0, 0, 0, 2, 0]]\n"
     ]
    }
   ],
   "source": [
    "matriz_adyacencia_b = []\n",
    "#inicializar matriz de adyacencia con ceros\n",
    "for i in range(num_actividades):\n",
    "\t\tmatriz_adyacencia_b.append([0]*num_actividades)\n",
    "\n",
    "#se crea un diccionario para relacionar cada letras correspondiente a la actividad con un número \n",
    "dict_actividades = {}\n",
    "cont = 0\n",
    "for indentificador in tabla_actividades[0]:\n",
    "  dict_actividades[indentificador] = cont\n",
    "  cont += 1\n",
    "\n",
    "#se crea la matriz de adyacencia \n",
    "for i in range(num_actividades):\n",
    "  if i == 0:\n",
    "    matriz_adyacencia_b[i][i] = tabla_actividades[2][i]\n",
    "  if tabla_actividades[3][i] != 'none':\n",
    "    #verificar si es la actividad final \n",
    "    if i == 0:\n",
    "      matriz_adyacencia_b[i][i] = tabla_actividades[2][i]\n",
    "    requisitos = tabla_actividades[3][i].split(\",\")\n",
    "    #se guarda el valor correspondiente a la duración de la actividad \n",
    "    for j in requisitos:\n",
    "      matriz_adyacencia_b[i][dict_actividades[j]] = tabla_actividades[2][dict_actividades[j]]\n",
    "\n",
    "print(matriz_adyacencia_b)"
   ]
  },
  {
   "cell_type": "markdown",
   "metadata": {
    "id": "YnRoUOiQPL56"
   },
   "source": [
    "##6. Backward-Pass"
   ]
  },
  {
   "cell_type": "code",
   "execution_count": 7,
   "metadata": {
    "colab": {
     "base_uri": "https://localhost:8080/"
    },
    "id": "pbMtCknJPQsr",
    "outputId": "f9a4c805-2d43-4fc9-8afb-5a68c71b7a0d"
   },
   "outputs": [
    {
     "name": "stdout",
     "output_type": "stream",
     "text": [
      "7\n",
      "visito: 7\n",
      "cola: [6]\n",
      "visito: 6\n",
      "cola: [3, 4]\n",
      "visito: 3\n",
      "cola: [4, 2, 5]\n",
      "visito: 4\n",
      "cola: [2, 5]\n",
      "visito: 2\n",
      "cola: [5, 1]\n",
      "visito: 5\n",
      "cola: [1]\n",
      "visito: 1\n",
      "cola: []\n",
      "[[0, 2, 0, 2], [2, 5, 3, 6], [5, 6, 6, 7], [4, 7, 4, 7], [2, 4, 2, 4], [7, 9, 7, 9], [9, 11, 9, 11]]\n"
     ]
    }
   ],
   "source": [
    "#se aplica breath first para recorrer el grafo\n",
    "\n",
    "#se crea una cola para guardar los nodos \n",
    "cola = []\n",
    "#array de visitados para saber cuales nodos se han visitado \n",
    "visitados = [False]*len(matriz_adyacencia_b)\n",
    "seguir = True\n",
    "#se inicia en el nodo 1\n",
    "v = num_actividades\n",
    "print(v)\n",
    "\n",
    "while seguir:\n",
    "  #si la cola tiene elementos s\n",
    "  if cola:\n",
    "    v = cola.pop(0)\n",
    "  print('visito: '+str(v))\n",
    "  #primero se recorre la fila en la matriz backwards adyacencia del nodo actual \n",
    "  for h in range(len(matriz_adyacencia_b[v-1])):\n",
    "    if matriz_adyacencia_b[v-1][h] != 0:\n",
    "      #si el nodo es el último la LS será igual a matriz_fechas[v-1][0] y la LF igual a matriz_fechas[v-1][1]\n",
    "      if v == num_actividades:\n",
    "        matriz_fechas[v-1][2] = matriz_fechas[v-1][0]\n",
    "        matriz_fechas[v-1][3] = matriz_fechas[v-1][1]\n",
    "      #se marca el nodo como visitado  \n",
    "      visitados[v-1] = True\n",
    "      #se agregan a la cola los hijos del nodo actual \n",
    "      if visitados[h] == False and h+1 not in cola:\n",
    "        cola.append(h+1)\n",
    "  #luego se vuelve a recorrer la fila en la matriz de adyacencia original del nodo actual, pero esta vez para guardar los ES y EF de las otras actividades \n",
    "  for i in range(len(matriz_adyacencia_f[v-1])):\n",
    "    #si el valor en la matriz de adyacencia en esa posición es distinto de cero (significa que la actividad es predecesora de la actual)\n",
    "    if matriz_adyacencia_f[v-1][i] !=0 and i != v-1:\n",
    "      #si el nodo no es el último \n",
    "      if v!= num_actividades:\n",
    "        #si el valor LS en la matriz fechas de la posición actual es menor al guardado del LF en la matriz fechas para el nodo actual o el valor LS en la posición actual es menor al LS del nodo actual\n",
    "        if matriz_fechas[i][2] < matriz_fechas[v-1][3] or matriz_fechas[i][2] < matriz_fechas[v-1][2]:\n",
    "          #se guarda el valor como LF en la matriz fechas para el nodo actual \n",
    "          matriz_fechas[v-1][3] = matriz_fechas[i][2]\n",
    "        #si el valor LS en la matriz fechas para la posición actual - la duración de esa actividad es menor que el valor de LS del nodo actual  \n",
    "        if matriz_fechas[i][2] - matriz_adyacencia_f[v-1][i] < matriz_fechas[v-1][2]:\n",
    "          #se guarda el valor como LS en la matriz fechas para el nodo actual \n",
    "          matriz_fechas[v-1][2] = matriz_fechas[i][2] - matriz_adyacencia_f[v-1][i]\n",
    "  print('cola: '+str(cola))\n",
    "  #si todos los nodos han sido visitados se termina el ciclo \n",
    "  if False not in visitados:\n",
    "    seguir = False\n",
    "\n",
    "print(matriz_fechas)"
   ]
  },
  {
   "cell_type": "markdown",
   "metadata": {
    "id": "m3JgtIdjdiB9"
   },
   "source": [
    "![backwardpass.png](data:image/png;base64,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)"
   ]
  },
  {
   "cell_type": "markdown",
   "metadata": {
    "id": "qt93q59ZMfyI"
   },
   "source": [
    "##7. Cálculo de holguras (S = LS - ES)"
   ]
  },
  {
   "cell_type": "code",
   "execution_count": 8,
   "metadata": {
    "colab": {
     "base_uri": "https://localhost:8080/"
    },
    "id": "QNnn2YwlGtIj",
    "outputId": "a618cd23-11d2-4757-8743-3d7c0ed25761"
   },
   "outputs": [
    {
     "name": "stdout",
     "output_type": "stream",
     "text": [
      "[0, 1, 1, 0, 0, 0, 0]\n"
     ]
    }
   ],
   "source": [
    "holguras = []\n",
    "\n",
    "#Iterar n veces para las n holguras\n",
    "for i in range(num_actividades):\n",
    "  holgura = matriz_fechas[i][2] - matriz_fechas[i][0]\n",
    "  holguras.append(holgura)\n",
    "\n",
    "print(holguras)"
   ]
  },
  {
   "cell_type": "markdown",
   "metadata": {
    "id": "QeCGsmkdPSEU"
   },
   "source": [
    "##8. Imprimir reporte"
   ]
  },
  {
   "cell_type": "code",
   "execution_count": 9,
   "metadata": {
    "colab": {
     "base_uri": "https://localhost:8080/"
    },
    "id": "jshjPpm7PUA1",
    "outputId": "5ef0d0d2-f97f-4182-879e-87b2c1164d5f"
   },
   "outputs": [
    {
     "name": "stdout",
     "output_type": "stream",
     "text": [
      "##########################\n",
      "##### REPORTE DE CPM #####\n",
      "##########################\n",
      "\n",
      "\n",
      "*FECHAS DE LAS ACTIVIDADES:\n",
      "\n",
      "A -\tES: 0\tEF:2\tLS:0\tLF:2\n",
      "B -\tES: 2\tEF:5\tLS:3\tLF:6\n",
      "C -\tES: 5\tEF:6\tLS:6\tLF:7\n",
      "D -\tES: 4\tEF:7\tLS:4\tLF:7\n",
      "E -\tES: 2\tEF:4\tLS:2\tLF:4\n",
      "F -\tES: 7\tEF:9\tLS:7\tLF:9\n",
      "G -\tES: 9\tEF:11\tLS:9\tLF:11\n",
      "\n",
      "\n",
      "\n",
      "*ELEMENTOS DE RUTA CRÍTICA:\n",
      "\n",
      "A; D; E; F; G; \n",
      "\n",
      "\n",
      "*HOLGURAS:\n",
      "\n",
      "La actividad B tiene holgura de: 1\n",
      "La actividad C tiene holgura de: 1\n"
     ]
    }
   ],
   "source": [
    "print('##########################')\n",
    "print('##### REPORTE DE CPM #####')\n",
    "print('##########################\\n\\n')\n",
    "\n",
    "#Imprimir las fechas ES, EF, LS y LF de cada actividad\n",
    "print('*FECHAS DE LAS ACTIVIDADES:\\n')\n",
    "\n",
    "for i in range(num_actividades):\n",
    "  print(tabla_actividades[0][i] + ' -'\n",
    "        '\\tES: ' + str(matriz_fechas[i][0]) +\n",
    "        '\\tEF:' + str(matriz_fechas[i][1]) +\n",
    "        '\\tLS:' + str(matriz_fechas[i][2]) +\n",
    "        '\\tLF:' + str(matriz_fechas[i][3]))\n",
    "print('\\n\\n')\n",
    "\n",
    "#Imprimir la ruta crítica\n",
    "print('*ELEMENTOS DE RUTA CRÍTICA:\\n')\n",
    "\n",
    "for i in range(num_actividades):\n",
    "  if (holguras[i] == 0):\n",
    "    print(tabla_actividades[0][i] + ';', end=' ')\n",
    "print('\\n\\n')\n",
    "\n",
    "#Imprimir las holguras\n",
    "print('*HOLGURAS:\\n')\n",
    "\n",
    "for i in range(num_actividades):\n",
    "  if (holguras[i] != 0):\n",
    "    print('La actividad '+ tabla_actividades[0][i] + ' tiene holgura de: '+ str(holguras[i]))"
   ]
  }
 ],
 "metadata": {
  "colab": {
   "collapsed_sections": [],
   "name": "Proyecto 2.ipynb",
   "provenance": []
  },
  "kernelspec": {
   "display_name": "Python 3",
   "language": "python",
   "name": "python3"
  },
  "language_info": {
   "codemirror_mode": {
    "name": "ipython",
    "version": 3
   },
   "file_extension": ".py",
   "mimetype": "text/x-python",
   "name": "python",
   "nbconvert_exporter": "python",
   "pygments_lexer": "ipython3",
   "version": "3.6.5"
  }
 },
 "nbformat": 4,
 "nbformat_minor": 2
}
